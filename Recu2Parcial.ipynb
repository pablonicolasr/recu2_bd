{
 "cells": [
  {
   "cell_type": "markdown",
   "id": "28253286",
   "metadata": {},
   "source": [
    "# Recuperatorio de Segundo Parcial\n",
    "\n",
    "BASE DE DATOS – 2024\n",
    "\n",
    "Utilizar la base de datos de SakilaDB"
   ]
  },
  {
   "cell_type": "markdown",
   "id": "05e672a3",
   "metadata": {},
   "source": [
    "Librerías"
   ]
  },
  {
   "cell_type": "code",
   "execution_count": null,
   "id": "a8a0dde8",
   "metadata": {},
   "outputs": [],
   "source": [
    "import sqlite3\n",
    "\n",
    "conn = sqlite3.connect('sakila.sqlite')\n",
    "\n",
    "cursor = conn.cursor()"
   ]
  },
  {
   "cell_type": "markdown",
   "id": "2ae0ff4d",
   "metadata": {},
   "source": [
    "1) Encontrar los clientes (id, nombre y apellido) que han realizado mas de 44 alquileres y con un customer_id mayor que 222 (resolver con subconsulta)"
   ]
  },
  {
   "cell_type": "code",
   "execution_count": null,
   "id": "347c471b",
   "metadata": {},
   "outputs": [],
   "source": [
    "# Dentro de la variable query, escriba el código SQL correspondiente\n",
    "\n",
    "query = \"\"\"\n",
    "SELECT\n",
    "\"\"\""
   ]
  },
  {
   "cell_type": "code",
   "execution_count": null,
   "id": "0fe16dd9",
   "metadata": {},
   "outputs": [],
   "source": [
    "# Ejecutar la consulta\n",
    "cursor.execute(query)\n",
    "\n",
    "# Obtener y mostrar los resultados\n",
    "results = cursor.fetchall()\n",
    "for row in results:\n",
    "    print(row)"
   ]
  },
  {
   "cell_type": "markdown",
   "id": "ee00db2a",
   "metadata": {},
   "source": [
    "2) Obtener el nombre de las películas que no pertenecen a la categoría 'Sci-Fi', Drama, Action, Comedy y Sports (Usar subconsulta). Usar IN."
   ]
  },
  {
   "cell_type": "code",
   "execution_count": null,
   "id": "896daa26",
   "metadata": {},
   "outputs": [],
   "source": [
    "# Dentro de la variable query, escriba el código SQL correspondiente\n",
    "query2 = \"\"\"\n",
    "\n",
    "\"\"\""
   ]
  },
  {
   "cell_type": "code",
   "execution_count": null,
   "id": "41e7689b",
   "metadata": {},
   "outputs": [],
   "source": [
    "# Ejecutar la consulta\n",
    "cursor.execute(query2)\n",
    "\n",
    "# Obtener y mostrar los resultados\n",
    "results = cursor.fetchall()\n",
    "for row in results:\n",
    "    print(row)"
   ]
  },
  {
   "cell_type": "markdown",
   "id": "51e43871",
   "metadata": {},
   "source": [
    "3.1. Cree una función Python llamada funcion_matematica que realice la siguiente operación: (3 * X) / 2\n",
    "\n",
    "3.2. Registra esta función como una UDF en SQLite.\n",
    "\n",
    "3.3. Realiza una consulta SQL que utilice la función funcion_matematica para devolver el campo \"amount\" de la tabla \"payment\""
   ]
  },
  {
   "cell_type": "code",
   "execution_count": null,
   "id": "31eaa589",
   "metadata": {},
   "outputs": [],
   "source": [
    "def funcion_matematica(num):\n",
    "    \n",
    "    # Escribir código\n",
    "    \n",
    "    pass"
   ]
  },
  {
   "cell_type": "code",
   "execution_count": null,
   "id": "1367ca43",
   "metadata": {},
   "outputs": [],
   "source": [
    "# Registrar la función convertir_a_mayusculas como una UDF\n",
    "\n",
    "conn.create_function(\"funcion_matematica\", 1, funcion_matematica)"
   ]
  },
  {
   "cell_type": "code",
   "execution_count": null,
   "id": "1111e014",
   "metadata": {},
   "outputs": [],
   "source": [
    "query3 = \"\"\"\n",
    "\"\"\""
   ]
  },
  {
   "cell_type": "code",
   "execution_count": null,
   "id": "e5f3679e",
   "metadata": {},
   "outputs": [],
   "source": [
    "# Ejecutar la consulta\n",
    "cursor.execute(query3)\n",
    "\n",
    "# Obtener y mostrar los resultados\n",
    "results = cursor.fetchall()\n",
    "for row in results:\n",
    "    print(row)"
   ]
  },
  {
   "cell_type": "code",
   "execution_count": null,
   "id": "944d7726",
   "metadata": {},
   "outputs": [],
   "source": []
  }
 ],
 "metadata": {
  "kernelspec": {
   "display_name": "Python 3 (ipykernel)",
   "language": "python",
   "name": "python3"
  },
  "language_info": {
   "codemirror_mode": {
    "name": "ipython",
    "version": 3
   },
   "file_extension": ".py",
   "mimetype": "text/x-python",
   "name": "python",
   "nbconvert_exporter": "python",
   "pygments_lexer": "ipython3",
   "version": "3.9.13"
  }
 },
 "nbformat": 4,
 "nbformat_minor": 5
}
